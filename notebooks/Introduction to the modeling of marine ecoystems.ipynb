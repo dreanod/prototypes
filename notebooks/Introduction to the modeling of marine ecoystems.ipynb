{
 "metadata": {
  "name": ""
 },
 "nbformat": 3,
 "nbformat_minor": 0,
 "worksheets": [
  {
   "cells": [
    {
     "cell_type": "code",
     "collapsed": false,
     "input": [
      "from scipy.integrate import odeint\n",
      "import numpy as np"
     ],
     "language": "python",
     "metadata": {},
     "outputs": [],
     "prompt_number": 3
    },
    {
     "cell_type": "markdown",
     "metadata": {},
     "source": [
      "## Section 2.1.2"
     ]
    },
    {
     "cell_type": "code",
     "collapsed": false,
     "input": [
      "rmax = 0.8 # d^{-1}\n",
      "k = 2 # mmol.m^{-3}\n",
      "\n",
      "def fun(y, t):\n",
      "    N = y[0]\n",
      "    P = y[1]\n",
      "    \n",
      "    dN = -rmax * N / (N + k) * P\n",
      "    dP = rmax * N / (N + k) * P\n",
      "    \n",
      "    return np.array([dN, dP])\n",
      "\n",
      "N0 = 5 # mmolN / m^3\n",
      "P0 = 0.5 # mmolN / m^3\n",
      "y0 = array([N0, P0])\n",
      "t = linspace(0, 8, 100)\n",
      "res = odeint(fun, y0, t)"
     ],
     "language": "python",
     "metadata": {},
     "outputs": [],
     "prompt_number": 15
    },
    {
     "cell_type": "code",
     "collapsed": false,
     "input": [
      "plot(t, res)"
     ],
     "language": "python",
     "metadata": {},
     "outputs": [
      {
       "metadata": {},
       "output_type": "pyout",
       "prompt_number": 16,
       "text": [
        "[<matplotlib.lines.Line2D at 0x1077abe50>,\n",
        " <matplotlib.lines.Line2D at 0x1077c1110>]"
       ]
      },
      {
       "metadata": {},
       "output_type": "display_data",
       "png": "[encoded data removed]",
       "text": [
        "<matplotlib.figure.Figure at 0x107723ad0>"
       ]
      }
     ],
     "prompt_number": 16
    },
    {
     "cell_type": "markdown",
     "metadata": {},
     "source": [
      "## 2.1.3 Recycling"
     ]
    },
    {
     "cell_type": "code",
     "collapsed": false,
     "input": [],
     "language": "python",
     "metadata": {},
     "outputs": []
    }
   ],
   "metadata": {}
  }
 ]
}